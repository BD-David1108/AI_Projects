{
  "nbformat": 4,
  "nbformat_minor": 0,
  "metadata": {
    "colab": {
      "provenance": [],
      "mount_file_id": "15hL0Injxqs4YX-ybpr3Z0FcDcCmgZ6Up",
      "authorship_tag": "ABX9TyOo87elpF3KoA3hdGFPvS5R",
      "include_colab_link": true
    },
    "kernelspec": {
      "name": "python3",
      "display_name": "Python 3"
    },
    "language_info": {
      "name": "python"
    }
  },
  "cells": [
    {
      "cell_type": "markdown",
      "metadata": {
        "id": "view-in-github",
        "colab_type": "text"
      },
      "source": [
        "<a href=\"https://colab.research.google.com/github/BD-David1108/AI_Projects/blob/main/Covid_19%26PneumoniaDLClassifModel.ipynb\" target=\"_parent\"><img src=\"https://colab.research.google.com/assets/colab-badge.svg\" alt=\"Open In Colab\"/></a>"
      ]
    },
    {
      "cell_type": "code",
      "execution_count": 3,
      "metadata": {
        "id": "EnFCHUI9ur9-"
      },
      "outputs": [],
      "source": [
        "import tensorflow as tf\n",
        "from tensorflow import keras\n",
        "from tensorflow.keras.models import Sequential\n",
        "from tensorflow.keras.preprocessing.image import ImageDataGenerator\n",
        "import numpy\n",
        "from sklearn.metrics import classification_report\n",
        "from sklearn.metrics import confusion_matrix\n",
        "from tensorflow.keras.callbacks import EarlyStopping\n",
        "from tensorflow.keras import layers\n",
        "from PIL import Image\n",
        "import matplotlib.pyplot as plt"
      ]
    },
    {
      "cell_type": "code",
      "source": [
        "from google.colab import drive\n",
        "drive.mount('/content/drive')"
      ],
      "metadata": {
        "colab": {
          "base_uri": "https://localhost:8080/"
        },
        "id": "bKR4Qp376rv_",
        "outputId": "d0ce577d-9263-4d8d-c844-f11e40c38224"
      },
      "execution_count": 12,
      "outputs": [
        {
          "output_type": "stream",
          "name": "stdout",
          "text": [
            "Drive already mounted at /content/drive; to attempt to forcibly remount, call drive.mount(\"/content/drive\", force_remount=True).\n"
          ]
        }
      ]
    },
    {
      "cell_type": "code",
      "source": [
        "#Constructing an ImageDataGenerator Object\n",
        "Directory = '/content/drive/MyDrive/data/Covid19-dataset/train'\n",
        "Class = 'categorical'\n",
        "Color_Mode = 'grayscale'\n",
        "Target_Size = (256,256)\n",
        "Batch_Size = 25\n",
        "\n",
        "training_data_generator = ImageDataGenerator()\n",
        "validation_data_generator = ImageDataGenerator()\n",
        "\n",
        "training_iterator = training_data_generator.flow_from_directory(Directory, class_mode=Class, color_mode= Color_Mode, target_size=Target_Size, batch_size=Batch_Size)#, subset='training')\n",
        "\n",
        "training_iterator.next()\n",
        "\n",
        "print('\\nLoading validation data...')\n",
        "\n",
        "validation_iterator = validation_data_generator.flow_from_directory(Directory, class_mode=Class, color_mode= Color_Mode, target_size=Target_Size, batch_size=Batch_Size)#, subset='validation')\n",
        "\n",
        "print(training_data_generator.__dict__)"
      ],
      "metadata": {
        "colab": {
          "base_uri": "https://localhost:8080/"
        },
        "id": "jkkKEmg16MFO",
        "outputId": "f110e0c6-fa01-42ef-dff0-e4af11b407be"
      },
      "execution_count": 4,
      "outputs": [
        {
          "output_type": "stream",
          "name": "stdout",
          "text": [
            "Found 251 images belonging to 3 classes.\n",
            "\n",
            "Loading validation data...\n",
            "Found 251 images belonging to 3 classes.\n",
            "{'featurewise_center': False, 'samplewise_center': False, 'featurewise_std_normalization': False, 'samplewise_std_normalization': False, 'zca_whitening': False, 'zca_epsilon': 1e-06, 'rotation_range': 0, 'width_shift_range': 0.0, 'height_shift_range': 0.0, 'shear_range': 0.0, 'zoom_range': [1.0, 1.0], 'channel_shift_range': 0.0, 'fill_mode': 'nearest', 'cval': 0.0, 'horizontal_flip': False, 'vertical_flip': False, 'rescale': None, 'preprocessing_function': None, 'dtype': 'float32', 'interpolation_order': 1, 'data_format': 'channels_last', 'channel_axis': 3, 'row_axis': 1, 'col_axis': 2, '_validation_split': 0.0, 'mean': None, 'std': None, 'zca_whitening_matrix': None, 'brightness_range': None}\n"
          ]
        }
      ]
    },
    {
      "cell_type": "code",
      "source": [
        "#Designing the model\n",
        "def design_model(training_data):\n",
        "    #Sequential\n",
        "    model = Sequential()\n",
        "    #Adding the input layer with grayscale image shape\n",
        "    model.add(tf.keras.Input(shape=(256,256,1)))\n",
        "    #Adding convolutional hidden layers with relu functions\n",
        "    #and maxpooling and dropout layers\n",
        "    model.add(layers.Conv2D(5, 5, strides=3, activation='relu'))\n",
        "    model.add(layers.MaxPooling2D(\n",
        "            pool_size=(3,3),\n",
        "            strides=(2,2)\n",
        "    ))\n",
        "    model.add(layers.Conv2D(2, 2, strides=1, activation='relu'))\n",
        "    model.add(layers.MaxPooling2D(\n",
        "            pool_size=(2,2),\n",
        "            strides=(2,2)\n",
        "    ))\n",
        "    model.add(layers.Conv2D(1, 1, strides=1, activation='relu'))\n",
        "    model.add(layers.MaxPooling2D(\n",
        "            pool_size=(2,2),\n",
        "            strides=(2,2)\n",
        "    ))\n",
        "    model.add(layers.Dropout(0.1))\n",
        "    model.add(layers.Flatten())\n",
        "    model.add(layers.Dense(3, activation='softmax'))\n",
        "\n",
        "    #Compiling Model\n",
        "    model.compile(optimizer=tf.keras.optimizers.Adam(learning_rate=.001), loss=tf.keras.losses.CategoricalCrossentropy(), metrics=[tf.keras.metrics.CategoricalAccuracy(),tf.keras.metrics.AUC()],)\n",
        "    print(\"\\nCompiling model...\")\n",
        "\n",
        "    print(model.summary())\n",
        "    return model\n"
      ],
      "metadata": {
        "id": "EfrSR54J6OiO"
      },
      "execution_count": 5,
      "outputs": []
    },
    {
      "cell_type": "code",
      "source": [
        "#Using model function\n",
        "model = design_model(training_iterator)"
      ],
      "metadata": {
        "colab": {
          "base_uri": "https://localhost:8080/"
        },
        "id": "jsTsh0bW6MHl",
        "outputId": "16b5cbf8-7ff1-42e0-8a18-09638b4f61e8"
      },
      "execution_count": 6,
      "outputs": [
        {
          "output_type": "stream",
          "name": "stdout",
          "text": [
            "\n",
            "Compiling model...\n",
            "Model: \"sequential\"\n",
            "_________________________________________________________________\n",
            " Layer (type)                Output Shape              Param #   \n",
            "=================================================================\n",
            " conv2d (Conv2D)             (None, 84, 84, 5)         130       \n",
            "                                                                 \n",
            " max_pooling2d (MaxPooling2  (None, 41, 41, 5)         0         \n",
            " D)                                                              \n",
            "                                                                 \n",
            " conv2d_1 (Conv2D)           (None, 40, 40, 2)         42        \n",
            "                                                                 \n",
            " max_pooling2d_1 (MaxPoolin  (None, 20, 20, 2)         0         \n",
            " g2D)                                                            \n",
            "                                                                 \n",
            " conv2d_2 (Conv2D)           (None, 20, 20, 1)         3         \n",
            "                                                                 \n",
            " max_pooling2d_2 (MaxPoolin  (None, 10, 10, 1)         0         \n",
            " g2D)                                                            \n",
            "                                                                 \n",
            " dropout (Dropout)           (None, 10, 10, 1)         0         \n",
            "                                                                 \n",
            " flatten (Flatten)           (None, 100)               0         \n",
            "                                                                 \n",
            " dense (Dense)               (None, 3)                 303       \n",
            "                                                                 \n",
            "=================================================================\n",
            "Total params: 478 (1.87 KB)\n",
            "Trainable params: 478 (1.87 KB)\n",
            "Non-trainable params: 0 (0.00 Byte)\n",
            "_________________________________________________________________\n",
            "None\n"
          ]
        }
      ]
    },
    {
      "cell_type": "code",
      "source": [
        "#Initializing EarlyStop\n",
        "es = EarlyStopping(monitor='val_auc', mode='min', verbose=1, patience=30)\n",
        "print(\"\\nTraining model...\")\n"
      ],
      "metadata": {
        "colab": {
          "base_uri": "https://localhost:8080/"
        },
        "id": "OmPE1ppR6MJ9",
        "outputId": "85ef0971-48fe-4da1-d4d3-a951173311ba"
      },
      "execution_count": 7,
      "outputs": [
        {
          "output_type": "stream",
          "name": "stdout",
          "text": [
            "\n",
            "Training model...\n"
          ]
        }
      ]
    },
    {
      "cell_type": "code",
      "source": [
        "#Fitting the model\n",
        "history =model.fit(\n",
        "        training_iterator,\n",
        "        steps_per_epoch=training_iterator.samples/Batch_Size, epochs=5,\n",
        "        validation_data=validation_iterator,\n",
        "        validation_steps=validation_iterator.samples/Batch_Size,\n",
        "        callbacks=[es])"
      ],
      "metadata": {
        "colab": {
          "base_uri": "https://localhost:8080/"
        },
        "id": "sI7piDt86MMR",
        "outputId": "d6b0f870-e682-41b5-daca-95ca3d8ea974"
      },
      "execution_count": 8,
      "outputs": [
        {
          "output_type": "stream",
          "name": "stdout",
          "text": [
            "Epoch 1/5\n",
            "10/10 [==============================] - 54s 5s/step - loss: 1.0984 - categorical_accuracy: 0.3386 - auc: 0.5000 - val_loss: 1.0981 - val_categorical_accuracy: 0.4422 - val_auc: 0.5408\n",
            "Epoch 2/5\n",
            "10/10 [==============================] - 18s 2s/step - loss: 1.0977 - categorical_accuracy: 0.4422 - auc: 0.5408 - val_loss: 1.0974 - val_categorical_accuracy: 0.4422 - val_auc: 0.5408\n",
            "Epoch 3/5\n",
            "10/10 [==============================] - 19s 2s/step - loss: 1.0969 - categorical_accuracy: 0.4422 - auc: 0.5669 - val_loss: 1.0962 - val_categorical_accuracy: 0.4422 - val_auc: 0.5817\n",
            "Epoch 4/5\n",
            "10/10 [==============================] - 18s 2s/step - loss: 1.0957 - categorical_accuracy: 0.4422 - auc: 0.5817 - val_loss: 1.0948 - val_categorical_accuracy: 0.4422 - val_auc: 0.5817\n",
            "Epoch 5/5\n",
            "10/10 [==============================] - 19s 2s/step - loss: 1.0943 - categorical_accuracy: 0.4422 - auc: 0.5878 - val_loss: 1.0935 - val_categorical_accuracy: 0.4422 - val_auc: 0.5817\n"
          ]
        }
      ]
    },
    {
      "cell_type": "code",
      "source": [
        "#Calculating classification report and confusion matrix\n",
        "test_steps_per_epoch = numpy.math.ceil(validation_iterator.samples / validation_iterator.batch_size)\n",
        "predictions = model.predict(validation_iterator, steps=test_steps_per_epoch)\n",
        "test_steps_per_epoch = numpy.math.ceil(validation_iterator.samples / validation_iterator.batch_size)\n",
        "predicted_classes = numpy.argmax(predictions, axis=1)\n",
        "true_classes = validation_iterator.classes\n",
        "class_labels = list(validation_iterator.class_indices.keys())\n",
        "report = classification_report(true_classes, predicted_classes, target_names=class_labels)\n",
        "print(report)"
      ],
      "metadata": {
        "colab": {
          "base_uri": "https://localhost:8080/"
        },
        "id": "BT_f8Qrf6MOd",
        "outputId": "6797804e-92d2-4d02-c226-10170b50a939"
      },
      "execution_count": 9,
      "outputs": [
        {
          "output_type": "stream",
          "name": "stdout",
          "text": [
            "11/11 [==============================] - 9s 780ms/step\n",
            "                 precision    recall  f1-score   support\n",
            "\n",
            "          Covid       0.44      1.00      0.61       111\n",
            "         Normal       0.00      0.00      0.00        70\n",
            "Viral Pneumonia       0.00      0.00      0.00        70\n",
            "\n",
            "       accuracy                           0.44       251\n",
            "      macro avg       0.15      0.33      0.20       251\n",
            "   weighted avg       0.20      0.44      0.27       251\n",
            "\n"
          ]
        },
        {
          "output_type": "stream",
          "name": "stderr",
          "text": [
            "/usr/local/lib/python3.10/dist-packages/sklearn/metrics/_classification.py:1344: UndefinedMetricWarning: Precision and F-score are ill-defined and being set to 0.0 in labels with no predicted samples. Use `zero_division` parameter to control this behavior.\n",
            "  _warn_prf(average, modifier, msg_start, len(result))\n",
            "/usr/local/lib/python3.10/dist-packages/sklearn/metrics/_classification.py:1344: UndefinedMetricWarning: Precision and F-score are ill-defined and being set to 0.0 in labels with no predicted samples. Use `zero_division` parameter to control this behavior.\n",
            "  _warn_prf(average, modifier, msg_start, len(result))\n",
            "/usr/local/lib/python3.10/dist-packages/sklearn/metrics/_classification.py:1344: UndefinedMetricWarning: Precision and F-score are ill-defined and being set to 0.0 in labels with no predicted samples. Use `zero_division` parameter to control this behavior.\n",
            "  _warn_prf(average, modifier, msg_start, len(result))\n"
          ]
        }
      ]
    },
    {
      "cell_type": "code",
      "source": [
        "# plotting categorical and validation accuracy over epochs\n",
        "fig = plt.figure()\n",
        "ax1 = fig.add_subplot(2, 1, 1)\n",
        "ax1.plot(history.history['categorical_accuracy'])\n",
        "ax1.plot(history.history['val_categorical_accuracy'])\n",
        "ax1.set_title('model accuracy')\n",
        "ax1.set_xlabel('epoch')\n",
        "ax1.set_ylabel('accuracy')\n",
        "ax1.legend(['train', 'validation'], loc='upper left')\n"
      ],
      "metadata": {
        "colab": {
          "base_uri": "https://localhost:8080/",
          "height": 287
        },
        "id": "Le140EsR6gmH",
        "outputId": "aae03bc7-8d8b-4c07-f467-79d566dfcec5"
      },
      "execution_count": 10,
      "outputs": [
        {
          "output_type": "execute_result",
          "data": {
            "text/plain": [
              "<matplotlib.legend.Legend at 0x7f2f973127d0>"
            ]
          },
          "metadata": {},
          "execution_count": 10
        },
        {
          "output_type": "display_data",
          "data": {
            "text/plain": [
              "<Figure size 640x480 with 1 Axes>"
            ],
            "image/png": "[encoded data removed]"
          },
          "metadata": {}
        }
      ]
    },
    {
      "cell_type": "code",
      "source": [
        "# plotting auc and validation auc over epochs\n",
        "ax2 = fig.add_subplot(2, 1, 2)\n",
        "ax2.plot(history.history['auc'])\n",
        "ax2.plot(history.history['val_auc'])\n",
        "ax2.set_title('model auc')\n",
        "ax2.set_xlabel('epoch')\n",
        "ax2.set_ylabel('auc')\n",
        "ax2.legend(['train', 'validation'], loc='upper left')\n",
        "\n",
        "cm=confusion_matrix(true_classes,predicted_classes)\n",
        "print(cm)"
      ],
      "metadata": {
        "colab": {
          "base_uri": "https://localhost:8080/"
        },
        "id": "VOPyXbFO6jmu",
        "outputId": "0b4a744d-cbb5-414f-dff8-8d781111e1b7"
      },
      "execution_count": 11,
      "outputs": [
        {
          "output_type": "stream",
          "name": "stdout",
          "text": [
            "[[111   0   0]\n",
            " [ 70   0   0]\n",
            " [ 70   0   0]]\n"
          ]
        }
      ]
    },
    {
      "cell_type": "code",
      "source": [],
      "metadata": {
        "id": "MG_O2QUv6lpc"
      },
      "execution_count": 12,
      "outputs": []
    }
  ]
}