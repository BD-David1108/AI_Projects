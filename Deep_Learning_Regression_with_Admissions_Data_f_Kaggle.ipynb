{
  "nbformat": 4,
  "nbformat_minor": 0,
  "metadata": {
    "colab": {
      "provenance": [],
      "mount_file_id": "1QVb0VIGENzGzfoNFDwNlxh3fTEmCJY-M",
      "authorship_tag": "ABX9TyMp+mJstYKEq+Br2NyFLMLy",
      "include_colab_link": true
    },
    "kernelspec": {
      "name": "python3",
      "display_name": "Python 3"
    },
    "language_info": {
      "name": "python"
    }
  },
  "cells": [
    {
      "cell_type": "markdown",
      "metadata": {
        "id": "view-in-github",
        "colab_type": "text"
      },
      "source": [
        "<a href=\"https://colab.research.google.com/github/BD-David1108/AI_Projects/blob/main/Deep_Learning_Regression_with_Admissions_Data_f_Kaggle.ipynb\" target=\"_parent\"><img src=\"https://colab.research.google.com/assets/colab-badge.svg\" alt=\"Open In Colab\"/></a>"
      ]
    },
    {
      "cell_type": "code",
      "execution_count": 45,
      "metadata": {
        "id": "su6tnA_NG_Sj"
      },
      "outputs": [],
      "source": [
        "import pandas as pd\n",
        "import matplotlib.pyplot as plt\n",
        "import tensorflow as tf\n",
        "from tensorflow.keras.models import Sequential\n",
        "from tensorflow.keras.callbacks import EarlyStopping\n",
        "from tensorflow.keras.layers import Dense\n",
        "from sklearn.model_selection import train_test_split\n",
        "from sklearn.preprocessing import StandardScaler\n",
        "from sklearn.metrics import r2_score"
      ]
    },
    {
      "cell_type": "code",
      "source": [
        "# Loading and checking the data\n",
        "dataset = pd.read_csv('/content/drive/MyDrive/data/admissions_data.csv')\n",
        "print(dataset.head())\n",
        "print(dataset.columns)\n",
        "print(dataset.shape)"
      ],
      "metadata": {
        "colab": {
          "base_uri": "https://localhost:8080/"
        },
        "id": "PahM3pJAHBIJ",
        "outputId": "e9e03a58-0561-4663-8230-5ceb82c04358"
      },
      "execution_count": 46,
      "outputs": [
        {
          "output_type": "stream",
          "name": "stdout",
          "text": [
            "   Serial No.  GRE Score  TOEFL Score  University Rating  SOP  LOR   CGPA  \\\n",
            "0           1        337          118                  4  4.5   4.5  9.65   \n",
            "1           2        324          107                  4  4.0   4.5  8.87   \n",
            "2           3        316          104                  3  3.0   3.5  8.00   \n",
            "3           4        322          110                  3  3.5   2.5  8.67   \n",
            "4           5        314          103                  2  2.0   3.0  8.21   \n",
            "\n",
            "   Research  Chance of Admit   \n",
            "0         1              0.92  \n",
            "1         1              0.76  \n",
            "2         1              0.72  \n",
            "3         1              0.80  \n",
            "4         0              0.65  \n",
            "Index(['Serial No.', 'GRE Score', 'TOEFL Score', 'University Rating', 'SOP',\n",
            "       'LOR ', 'CGPA', 'Research', 'Chance of Admit '],\n",
            "      dtype='object')\n",
            "(500, 9)\n"
          ]
        }
      ]
    },
    {
      "cell_type": "code",
      "source": [
        "# Feature and label data split\n",
        "labels = dataset.iloc[:, -1]\n",
        "features = dataset.iloc[:, 1:-1]"
      ],
      "metadata": {
        "id": "jVjVmTPqHC7I"
      },
      "execution_count": 47,
      "outputs": []
    },
    {
      "cell_type": "code",
      "source": [
        "# Train, validation, test split\n",
        "features_train, features_test, labels_train, labels_test = train_test_split(features, labels, test_size=0.20, random_state=11)\n",
        "features_train, features_val, labels_train, labels_val = train_test_split(features_train, labels_train, test_size=0.20, random_state=42)"
      ],
      "metadata": {
        "id": "bgC4PkzfHC9o"
      },
      "execution_count": 48,
      "outputs": []
    },
    {
      "cell_type": "code",
      "source": [
        "# StandardScaler for feature scaling\n",
        "scaler = StandardScaler()\n",
        "features_train_scaled = scaler.fit_transform(features_train)\n",
        "features_test_scaled = scaler.transform(features_test)\n",
        "features_val_scaled = scaler.transform(features_val)\n"
      ],
      "metadata": {
        "id": "gEZDfrtVHDCM"
      },
      "execution_count": 49,
      "outputs": []
    },
    {
      "cell_type": "code",
      "source": [
        "# Creating the model\n",
        "model = Sequential([\n",
        "    Dense(32, activation='relu', input_shape=(features.shape[1],)),\n",
        "    Dense(16, activation='relu'),\n",
        "    Dense(1)\n",
        "])\n",
        "print(model.summary())"
      ],
      "metadata": {
        "colab": {
          "base_uri": "https://localhost:8080/"
        },
        "id": "Zfz_2jAeHDEp",
        "outputId": "73cb7d01-18bc-4166-aab9-e61f97342e13"
      },
      "execution_count": 50,
      "outputs": [
        {
          "output_type": "stream",
          "name": "stdout",
          "text": [
            "Model: \"sequential_2\"\n",
            "_________________________________________________________________\n",
            " Layer (type)                Output Shape              Param #   \n",
            "=================================================================\n",
            " dense_6 (Dense)             (None, 32)                256       \n",
            "                                                                 \n",
            " dense_7 (Dense)             (None, 16)                528       \n",
            "                                                                 \n",
            " dense_8 (Dense)             (None, 1)                 17        \n",
            "                                                                 \n",
            "=================================================================\n",
            "Total params: 801 (3.13 KB)\n",
            "Trainable params: 801 (3.13 KB)\n",
            "Non-trainable params: 0 (0.00 Byte)\n",
            "_________________________________________________________________\n",
            "None\n"
          ]
        }
      ]
    },
    {
      "cell_type": "code",
      "source": [
        "# Compiling model\n",
        "model.compile(loss='mse', metrics=['mae'], optimizer='adam')"
      ],
      "metadata": {
        "id": "8XtX5DTLHM7Z"
      },
      "execution_count": 51,
      "outputs": []
    },
    {
      "cell_type": "code",
      "source": [
        "# EarlyStopping callback\n",
        "early_stopping = EarlyStopping(monitor='val_loss', mode='min', patience=15, restore_best_weights=True)"
      ],
      "metadata": {
        "id": "QCojX6wKHM_s"
      },
      "execution_count": 52,
      "outputs": []
    },
    {
      "cell_type": "code",
      "source": [
        "# Fitting the model\n",
        "history = model.fit(features_train_scaled, labels_train, epochs=150, batch_size=32,\n",
        "                    validation_data=(features_val_scaled, labels_val), callbacks=[early_stopping])"
      ],
      "metadata": {
        "colab": {
          "base_uri": "https://localhost:8080/"
        },
        "id": "2uD4xmAaHNCo",
        "outputId": "9a225f1c-1b5d-4898-e811-a58b6cfb7375"
      },
      "execution_count": 53,
      "outputs": [
        {
          "output_type": "stream",
          "name": "stdout",
          "text": [
            "Epoch 1/150\n",
            "10/10 [==============================] - 1s 31ms/step - loss: 0.6211 - mae: 0.7649 - val_loss: 0.3630 - val_mae: 0.5799\n",
            "Epoch 2/150\n",
            "10/10 [==============================] - 0s 10ms/step - loss: 0.2533 - mae: 0.4721 - val_loss: 0.1383 - val_mae: 0.3339\n",
            "Epoch 3/150\n",
            "10/10 [==============================] - 0s 10ms/step - loss: 0.0934 - mae: 0.2614 - val_loss: 0.0698 - val_mae: 0.2234\n",
            "Epoch 4/150\n",
            "10/10 [==============================] - 0s 10ms/step - loss: 0.0553 - mae: 0.1960 - val_loss: 0.0653 - val_mae: 0.2136\n",
            "Epoch 5/150\n",
            "10/10 [==============================] - 0s 10ms/step - loss: 0.0510 - mae: 0.1878 - val_loss: 0.0567 - val_mae: 0.1977\n",
            "Epoch 6/150\n",
            "10/10 [==============================] - 0s 10ms/step - loss: 0.0410 - mae: 0.1690 - val_loss: 0.0488 - val_mae: 0.1831\n",
            "Epoch 7/150\n",
            "10/10 [==============================] - 0s 10ms/step - loss: 0.0369 - mae: 0.1594 - val_loss: 0.0444 - val_mae: 0.1748\n",
            "Epoch 8/150\n",
            "10/10 [==============================] - 0s 8ms/step - loss: 0.0330 - mae: 0.1510 - val_loss: 0.0409 - val_mae: 0.1661\n",
            "Epoch 9/150\n",
            "10/10 [==============================] - 0s 10ms/step - loss: 0.0300 - mae: 0.1441 - val_loss: 0.0379 - val_mae: 0.1582\n",
            "Epoch 10/150\n",
            "10/10 [==============================] - 0s 10ms/step - loss: 0.0276 - mae: 0.1379 - val_loss: 0.0348 - val_mae: 0.1503\n",
            "Epoch 11/150\n",
            "10/10 [==============================] - 0s 7ms/step - loss: 0.0255 - mae: 0.1320 - val_loss: 0.0321 - val_mae: 0.1429\n",
            "Epoch 12/150\n",
            "10/10 [==============================] - 0s 9ms/step - loss: 0.0235 - mae: 0.1264 - val_loss: 0.0297 - val_mae: 0.1370\n",
            "Epoch 13/150\n",
            "10/10 [==============================] - 0s 10ms/step - loss: 0.0217 - mae: 0.1217 - val_loss: 0.0273 - val_mae: 0.1314\n",
            "Epoch 14/150\n",
            "10/10 [==============================] - 0s 9ms/step - loss: 0.0200 - mae: 0.1169 - val_loss: 0.0252 - val_mae: 0.1259\n",
            "Epoch 15/150\n",
            "10/10 [==============================] - 0s 10ms/step - loss: 0.0185 - mae: 0.1120 - val_loss: 0.0233 - val_mae: 0.1196\n",
            "Epoch 16/150\n",
            "10/10 [==============================] - 0s 6ms/step - loss: 0.0172 - mae: 0.1080 - val_loss: 0.0216 - val_mae: 0.1149\n",
            "Epoch 17/150\n",
            "10/10 [==============================] - 0s 5ms/step - loss: 0.0159 - mae: 0.1036 - val_loss: 0.0199 - val_mae: 0.1092\n",
            "Epoch 18/150\n",
            "10/10 [==============================] - 0s 5ms/step - loss: 0.0148 - mae: 0.0992 - val_loss: 0.0183 - val_mae: 0.1044\n",
            "Epoch 19/150\n",
            "10/10 [==============================] - 0s 6ms/step - loss: 0.0137 - mae: 0.0954 - val_loss: 0.0171 - val_mae: 0.1011\n",
            "Epoch 20/150\n",
            "10/10 [==============================] - 0s 5ms/step - loss: 0.0129 - mae: 0.0925 - val_loss: 0.0159 - val_mae: 0.0972\n",
            "Epoch 21/150\n",
            "10/10 [==============================] - 0s 7ms/step - loss: 0.0121 - mae: 0.0887 - val_loss: 0.0148 - val_mae: 0.0933\n",
            "Epoch 22/150\n",
            "10/10 [==============================] - 0s 5ms/step - loss: 0.0113 - mae: 0.0855 - val_loss: 0.0140 - val_mae: 0.0918\n",
            "Epoch 23/150\n",
            "10/10 [==============================] - 0s 7ms/step - loss: 0.0105 - mae: 0.0828 - val_loss: 0.0132 - val_mae: 0.0891\n",
            "Epoch 24/150\n",
            "10/10 [==============================] - 0s 7ms/step - loss: 0.0100 - mae: 0.0800 - val_loss: 0.0124 - val_mae: 0.0860\n",
            "Epoch 25/150\n",
            "10/10 [==============================] - 0s 5ms/step - loss: 0.0094 - mae: 0.0774 - val_loss: 0.0119 - val_mae: 0.0849\n",
            "Epoch 26/150\n",
            "10/10 [==============================] - 0s 5ms/step - loss: 0.0090 - mae: 0.0757 - val_loss: 0.0111 - val_mae: 0.0815\n",
            "Epoch 27/150\n",
            "10/10 [==============================] - 0s 6ms/step - loss: 0.0085 - mae: 0.0732 - val_loss: 0.0107 - val_mae: 0.0814\n",
            "Epoch 28/150\n",
            "10/10 [==============================] - 0s 7ms/step - loss: 0.0080 - mae: 0.0709 - val_loss: 0.0102 - val_mae: 0.0788\n",
            "Epoch 29/150\n",
            "10/10 [==============================] - 0s 7ms/step - loss: 0.0077 - mae: 0.0694 - val_loss: 0.0098 - val_mae: 0.0775\n",
            "Epoch 30/150\n",
            "10/10 [==============================] - 0s 6ms/step - loss: 0.0073 - mae: 0.0674 - val_loss: 0.0095 - val_mae: 0.0761\n",
            "Epoch 31/150\n",
            "10/10 [==============================] - 0s 5ms/step - loss: 0.0071 - mae: 0.0669 - val_loss: 0.0094 - val_mae: 0.0761\n",
            "Epoch 32/150\n",
            "10/10 [==============================] - 0s 8ms/step - loss: 0.0068 - mae: 0.0651 - val_loss: 0.0089 - val_mae: 0.0740\n",
            "Epoch 33/150\n",
            "10/10 [==============================] - 0s 7ms/step - loss: 0.0065 - mae: 0.0634 - val_loss: 0.0087 - val_mae: 0.0732\n",
            "Epoch 34/150\n",
            "10/10 [==============================] - 0s 7ms/step - loss: 0.0064 - mae: 0.0628 - val_loss: 0.0086 - val_mae: 0.0726\n",
            "Epoch 35/150\n",
            "10/10 [==============================] - 0s 5ms/step - loss: 0.0062 - mae: 0.0620 - val_loss: 0.0083 - val_mae: 0.0714\n",
            "Epoch 36/150\n",
            "10/10 [==============================] - 0s 5ms/step - loss: 0.0060 - mae: 0.0606 - val_loss: 0.0081 - val_mae: 0.0703\n",
            "Epoch 37/150\n",
            "10/10 [==============================] - 0s 7ms/step - loss: 0.0059 - mae: 0.0600 - val_loss: 0.0081 - val_mae: 0.0699\n",
            "Epoch 38/150\n",
            "10/10 [==============================] - 0s 7ms/step - loss: 0.0057 - mae: 0.0588 - val_loss: 0.0079 - val_mae: 0.0689\n",
            "Epoch 39/150\n",
            "10/10 [==============================] - 0s 5ms/step - loss: 0.0056 - mae: 0.0579 - val_loss: 0.0079 - val_mae: 0.0684\n",
            "Epoch 40/150\n",
            "10/10 [==============================] - 0s 7ms/step - loss: 0.0055 - mae: 0.0577 - val_loss: 0.0079 - val_mae: 0.0685\n",
            "Epoch 41/150\n",
            "10/10 [==============================] - 0s 5ms/step - loss: 0.0054 - mae: 0.0574 - val_loss: 0.0076 - val_mae: 0.0671\n",
            "Epoch 42/150\n",
            "10/10 [==============================] - 0s 5ms/step - loss: 0.0053 - mae: 0.0569 - val_loss: 0.0076 - val_mae: 0.0671\n",
            "Epoch 43/150\n",
            "10/10 [==============================] - 0s 7ms/step - loss: 0.0052 - mae: 0.0558 - val_loss: 0.0075 - val_mae: 0.0665\n",
            "Epoch 44/150\n",
            "10/10 [==============================] - 0s 6ms/step - loss: 0.0051 - mae: 0.0560 - val_loss: 0.0076 - val_mae: 0.0668\n",
            "Epoch 45/150\n",
            "10/10 [==============================] - 0s 5ms/step - loss: 0.0050 - mae: 0.0549 - val_loss: 0.0074 - val_mae: 0.0654\n",
            "Epoch 46/150\n",
            "10/10 [==============================] - 0s 7ms/step - loss: 0.0049 - mae: 0.0544 - val_loss: 0.0074 - val_mae: 0.0658\n",
            "Epoch 47/150\n",
            "10/10 [==============================] - 0s 5ms/step - loss: 0.0049 - mae: 0.0543 - val_loss: 0.0073 - val_mae: 0.0649\n",
            "Epoch 48/150\n",
            "10/10 [==============================] - 0s 7ms/step - loss: 0.0047 - mae: 0.0536 - val_loss: 0.0072 - val_mae: 0.0647\n",
            "Epoch 49/150\n",
            "10/10 [==============================] - 0s 5ms/step - loss: 0.0047 - mae: 0.0531 - val_loss: 0.0072 - val_mae: 0.0641\n",
            "Epoch 50/150\n",
            "10/10 [==============================] - 0s 5ms/step - loss: 0.0046 - mae: 0.0525 - val_loss: 0.0072 - val_mae: 0.0642\n",
            "Epoch 51/150\n",
            "10/10 [==============================] - 0s 7ms/step - loss: 0.0045 - mae: 0.0523 - val_loss: 0.0071 - val_mae: 0.0640\n",
            "Epoch 52/150\n",
            "10/10 [==============================] - 0s 7ms/step - loss: 0.0045 - mae: 0.0520 - val_loss: 0.0070 - val_mae: 0.0632\n",
            "Epoch 53/150\n",
            "10/10 [==============================] - 0s 7ms/step - loss: 0.0044 - mae: 0.0513 - val_loss: 0.0070 - val_mae: 0.0627\n",
            "Epoch 54/150\n",
            "10/10 [==============================] - 0s 5ms/step - loss: 0.0044 - mae: 0.0505 - val_loss: 0.0070 - val_mae: 0.0632\n",
            "Epoch 55/150\n",
            "10/10 [==============================] - 0s 5ms/step - loss: 0.0043 - mae: 0.0512 - val_loss: 0.0070 - val_mae: 0.0635\n",
            "Epoch 56/150\n",
            "10/10 [==============================] - 0s 5ms/step - loss: 0.0043 - mae: 0.0506 - val_loss: 0.0068 - val_mae: 0.0611\n",
            "Epoch 57/150\n",
            "10/10 [==============================] - 0s 7ms/step - loss: 0.0042 - mae: 0.0498 - val_loss: 0.0069 - val_mae: 0.0626\n",
            "Epoch 58/150\n",
            "10/10 [==============================] - 0s 7ms/step - loss: 0.0041 - mae: 0.0501 - val_loss: 0.0068 - val_mae: 0.0616\n",
            "Epoch 59/150\n",
            "10/10 [==============================] - 0s 7ms/step - loss: 0.0041 - mae: 0.0489 - val_loss: 0.0068 - val_mae: 0.0618\n",
            "Epoch 60/150\n",
            "10/10 [==============================] - 0s 6ms/step - loss: 0.0040 - mae: 0.0488 - val_loss: 0.0069 - val_mae: 0.0620\n",
            "Epoch 61/150\n",
            "10/10 [==============================] - 0s 7ms/step - loss: 0.0039 - mae: 0.0485 - val_loss: 0.0068 - val_mae: 0.0615\n",
            "Epoch 62/150\n",
            "10/10 [==============================] - 0s 5ms/step - loss: 0.0039 - mae: 0.0481 - val_loss: 0.0067 - val_mae: 0.0608\n",
            "Epoch 63/150\n",
            "10/10 [==============================] - 0s 7ms/step - loss: 0.0038 - mae: 0.0476 - val_loss: 0.0067 - val_mae: 0.0603\n",
            "Epoch 64/150\n",
            "10/10 [==============================] - 0s 7ms/step - loss: 0.0038 - mae: 0.0478 - val_loss: 0.0067 - val_mae: 0.0610\n",
            "Epoch 65/150\n",
            "10/10 [==============================] - 0s 5ms/step - loss: 0.0039 - mae: 0.0476 - val_loss: 0.0065 - val_mae: 0.0598\n",
            "Epoch 66/150\n",
            "10/10 [==============================] - 0s 7ms/step - loss: 0.0038 - mae: 0.0477 - val_loss: 0.0067 - val_mae: 0.0610\n",
            "Epoch 67/150\n",
            "10/10 [==============================] - 0s 6ms/step - loss: 0.0037 - mae: 0.0465 - val_loss: 0.0065 - val_mae: 0.0592\n",
            "Epoch 68/150\n",
            "10/10 [==============================] - 0s 5ms/step - loss: 0.0036 - mae: 0.0467 - val_loss: 0.0066 - val_mae: 0.0605\n",
            "Epoch 69/150\n",
            "10/10 [==============================] - 0s 5ms/step - loss: 0.0036 - mae: 0.0461 - val_loss: 0.0065 - val_mae: 0.0598\n",
            "Epoch 70/150\n",
            "10/10 [==============================] - 0s 7ms/step - loss: 0.0036 - mae: 0.0457 - val_loss: 0.0065 - val_mae: 0.0591\n",
            "Epoch 71/150\n",
            "10/10 [==============================] - 0s 5ms/step - loss: 0.0035 - mae: 0.0457 - val_loss: 0.0066 - val_mae: 0.0600\n",
            "Epoch 72/150\n",
            "10/10 [==============================] - 0s 8ms/step - loss: 0.0035 - mae: 0.0455 - val_loss: 0.0064 - val_mae: 0.0591\n",
            "Epoch 73/150\n",
            "10/10 [==============================] - 0s 7ms/step - loss: 0.0035 - mae: 0.0449 - val_loss: 0.0064 - val_mae: 0.0582\n",
            "Epoch 74/150\n",
            "10/10 [==============================] - 0s 5ms/step - loss: 0.0034 - mae: 0.0448 - val_loss: 0.0064 - val_mae: 0.0588\n",
            "Epoch 75/150\n",
            "10/10 [==============================] - 0s 7ms/step - loss: 0.0034 - mae: 0.0446 - val_loss: 0.0064 - val_mae: 0.0589\n",
            "Epoch 76/150\n",
            "10/10 [==============================] - 0s 7ms/step - loss: 0.0033 - mae: 0.0443 - val_loss: 0.0064 - val_mae: 0.0586\n",
            "Epoch 77/150\n",
            "10/10 [==============================] - 0s 6ms/step - loss: 0.0034 - mae: 0.0438 - val_loss: 0.0064 - val_mae: 0.0584\n",
            "Epoch 78/150\n",
            "10/10 [==============================] - 0s 5ms/step - loss: 0.0034 - mae: 0.0452 - val_loss: 0.0064 - val_mae: 0.0591\n",
            "Epoch 79/150\n",
            "10/10 [==============================] - 0s 7ms/step - loss: 0.0033 - mae: 0.0436 - val_loss: 0.0063 - val_mae: 0.0573\n",
            "Epoch 80/150\n",
            "10/10 [==============================] - 0s 7ms/step - loss: 0.0033 - mae: 0.0446 - val_loss: 0.0064 - val_mae: 0.0588\n",
            "Epoch 81/150\n",
            "10/10 [==============================] - 0s 5ms/step - loss: 0.0033 - mae: 0.0432 - val_loss: 0.0063 - val_mae: 0.0575\n",
            "Epoch 82/150\n",
            "10/10 [==============================] - 0s 5ms/step - loss: 0.0032 - mae: 0.0430 - val_loss: 0.0064 - val_mae: 0.0584\n",
            "Epoch 83/150\n",
            "10/10 [==============================] - 0s 7ms/step - loss: 0.0032 - mae: 0.0438 - val_loss: 0.0063 - val_mae: 0.0576\n",
            "Epoch 84/150\n",
            "10/10 [==============================] - 0s 5ms/step - loss: 0.0031 - mae: 0.0428 - val_loss: 0.0063 - val_mae: 0.0576\n",
            "Epoch 85/150\n",
            "10/10 [==============================] - 0s 7ms/step - loss: 0.0031 - mae: 0.0423 - val_loss: 0.0063 - val_mae: 0.0574\n",
            "Epoch 86/150\n",
            "10/10 [==============================] - 0s 5ms/step - loss: 0.0031 - mae: 0.0423 - val_loss: 0.0063 - val_mae: 0.0580\n",
            "Epoch 87/150\n",
            "10/10 [==============================] - 0s 5ms/step - loss: 0.0030 - mae: 0.0419 - val_loss: 0.0063 - val_mae: 0.0571\n",
            "Epoch 88/150\n",
            "10/10 [==============================] - 0s 7ms/step - loss: 0.0030 - mae: 0.0415 - val_loss: 0.0063 - val_mae: 0.0574\n",
            "Epoch 89/150\n",
            "10/10 [==============================] - 0s 7ms/step - loss: 0.0030 - mae: 0.0420 - val_loss: 0.0063 - val_mae: 0.0570\n",
            "Epoch 90/150\n",
            "10/10 [==============================] - 0s 6ms/step - loss: 0.0030 - mae: 0.0417 - val_loss: 0.0063 - val_mae: 0.0575\n",
            "Epoch 91/150\n",
            "10/10 [==============================] - 0s 8ms/step - loss: 0.0029 - mae: 0.0412 - val_loss: 0.0063 - val_mae: 0.0572\n",
            "Epoch 92/150\n",
            "10/10 [==============================] - 0s 7ms/step - loss: 0.0029 - mae: 0.0411 - val_loss: 0.0062 - val_mae: 0.0569\n",
            "Epoch 93/150\n",
            "10/10 [==============================] - 0s 7ms/step - loss: 0.0029 - mae: 0.0413 - val_loss: 0.0063 - val_mae: 0.0575\n",
            "Epoch 94/150\n",
            "10/10 [==============================] - 0s 5ms/step - loss: 0.0029 - mae: 0.0405 - val_loss: 0.0062 - val_mae: 0.0561\n",
            "Epoch 95/150\n",
            "10/10 [==============================] - 0s 7ms/step - loss: 0.0029 - mae: 0.0410 - val_loss: 0.0063 - val_mae: 0.0572\n",
            "Epoch 96/150\n",
            "10/10 [==============================] - 0s 5ms/step - loss: 0.0029 - mae: 0.0403 - val_loss: 0.0062 - val_mae: 0.0561\n",
            "Epoch 97/150\n",
            "10/10 [==============================] - 0s 7ms/step - loss: 0.0028 - mae: 0.0405 - val_loss: 0.0063 - val_mae: 0.0574\n",
            "Epoch 98/150\n",
            "10/10 [==============================] - 0s 5ms/step - loss: 0.0028 - mae: 0.0407 - val_loss: 0.0061 - val_mae: 0.0558\n",
            "Epoch 99/150\n",
            "10/10 [==============================] - 0s 5ms/step - loss: 0.0028 - mae: 0.0400 - val_loss: 0.0064 - val_mae: 0.0577\n",
            "Epoch 100/150\n",
            "10/10 [==============================] - 0s 7ms/step - loss: 0.0028 - mae: 0.0404 - val_loss: 0.0061 - val_mae: 0.0554\n",
            "Epoch 101/150\n",
            "10/10 [==============================] - 0s 7ms/step - loss: 0.0028 - mae: 0.0398 - val_loss: 0.0062 - val_mae: 0.0566\n",
            "Epoch 102/150\n",
            "10/10 [==============================] - 0s 5ms/step - loss: 0.0027 - mae: 0.0395 - val_loss: 0.0062 - val_mae: 0.0561\n",
            "Epoch 103/150\n",
            "10/10 [==============================] - 0s 7ms/step - loss: 0.0027 - mae: 0.0393 - val_loss: 0.0062 - val_mae: 0.0564\n",
            "Epoch 104/150\n",
            "10/10 [==============================] - 0s 6ms/step - loss: 0.0028 - mae: 0.0401 - val_loss: 0.0062 - val_mae: 0.0562\n",
            "Epoch 105/150\n",
            "10/10 [==============================] - 0s 7ms/step - loss: 0.0027 - mae: 0.0387 - val_loss: 0.0061 - val_mae: 0.0555\n",
            "Epoch 106/150\n",
            "10/10 [==============================] - 0s 6ms/step - loss: 0.0027 - mae: 0.0402 - val_loss: 0.0061 - val_mae: 0.0562\n",
            "Epoch 107/150\n",
            "10/10 [==============================] - 0s 7ms/step - loss: 0.0026 - mae: 0.0386 - val_loss: 0.0061 - val_mae: 0.0557\n",
            "Epoch 108/150\n",
            "10/10 [==============================] - 0s 5ms/step - loss: 0.0026 - mae: 0.0390 - val_loss: 0.0062 - val_mae: 0.0571\n",
            "Epoch 109/150\n",
            "10/10 [==============================] - 0s 7ms/step - loss: 0.0027 - mae: 0.0394 - val_loss: 0.0060 - val_mae: 0.0554\n",
            "Epoch 110/150\n",
            "10/10 [==============================] - 0s 7ms/step - loss: 0.0026 - mae: 0.0392 - val_loss: 0.0062 - val_mae: 0.0567\n",
            "Epoch 111/150\n",
            "10/10 [==============================] - 0s 7ms/step - loss: 0.0026 - mae: 0.0383 - val_loss: 0.0060 - val_mae: 0.0557\n",
            "Epoch 112/150\n",
            "10/10 [==============================] - 0s 5ms/step - loss: 0.0026 - mae: 0.0381 - val_loss: 0.0061 - val_mae: 0.0565\n",
            "Epoch 113/150\n",
            "10/10 [==============================] - 0s 8ms/step - loss: 0.0025 - mae: 0.0378 - val_loss: 0.0061 - val_mae: 0.0560\n",
            "Epoch 114/150\n",
            "10/10 [==============================] - 0s 6ms/step - loss: 0.0025 - mae: 0.0376 - val_loss: 0.0061 - val_mae: 0.0561\n",
            "Epoch 115/150\n",
            "10/10 [==============================] - 0s 8ms/step - loss: 0.0025 - mae: 0.0375 - val_loss: 0.0060 - val_mae: 0.0555\n",
            "Epoch 116/150\n",
            "10/10 [==============================] - 0s 5ms/step - loss: 0.0025 - mae: 0.0379 - val_loss: 0.0060 - val_mae: 0.0560\n",
            "Epoch 117/150\n",
            "10/10 [==============================] - 0s 5ms/step - loss: 0.0026 - mae: 0.0377 - val_loss: 0.0060 - val_mae: 0.0556\n",
            "Epoch 118/150\n",
            "10/10 [==============================] - 0s 7ms/step - loss: 0.0026 - mae: 0.0394 - val_loss: 0.0061 - val_mae: 0.0565\n",
            "Epoch 119/150\n",
            "10/10 [==============================] - 0s 7ms/step - loss: 0.0025 - mae: 0.0371 - val_loss: 0.0059 - val_mae: 0.0546\n",
            "Epoch 120/150\n",
            "10/10 [==============================] - 0s 6ms/step - loss: 0.0024 - mae: 0.0371 - val_loss: 0.0060 - val_mae: 0.0559\n",
            "Epoch 121/150\n",
            "10/10 [==============================] - 0s 6ms/step - loss: 0.0024 - mae: 0.0369 - val_loss: 0.0060 - val_mae: 0.0555\n",
            "Epoch 122/150\n",
            "10/10 [==============================] - 0s 5ms/step - loss: 0.0024 - mae: 0.0365 - val_loss: 0.0060 - val_mae: 0.0556\n",
            "Epoch 123/150\n",
            "10/10 [==============================] - 0s 7ms/step - loss: 0.0024 - mae: 0.0369 - val_loss: 0.0060 - val_mae: 0.0558\n",
            "Epoch 124/150\n",
            "10/10 [==============================] - 0s 7ms/step - loss: 0.0024 - mae: 0.0367 - val_loss: 0.0060 - val_mae: 0.0557\n",
            "Epoch 125/150\n",
            "10/10 [==============================] - 0s 5ms/step - loss: 0.0024 - mae: 0.0371 - val_loss: 0.0060 - val_mae: 0.0555\n",
            "Epoch 126/150\n",
            "10/10 [==============================] - 0s 6ms/step - loss: 0.0024 - mae: 0.0364 - val_loss: 0.0059 - val_mae: 0.0549\n",
            "Epoch 127/150\n",
            "10/10 [==============================] - 0s 8ms/step - loss: 0.0024 - mae: 0.0369 - val_loss: 0.0060 - val_mae: 0.0559\n",
            "Epoch 128/150\n",
            "10/10 [==============================] - 0s 6ms/step - loss: 0.0023 - mae: 0.0362 - val_loss: 0.0060 - val_mae: 0.0553\n",
            "Epoch 129/150\n",
            "10/10 [==============================] - 0s 7ms/step - loss: 0.0024 - mae: 0.0361 - val_loss: 0.0060 - val_mae: 0.0558\n",
            "Epoch 130/150\n",
            "10/10 [==============================] - 0s 7ms/step - loss: 0.0023 - mae: 0.0358 - val_loss: 0.0059 - val_mae: 0.0548\n",
            "Epoch 131/150\n",
            "10/10 [==============================] - 0s 5ms/step - loss: 0.0023 - mae: 0.0360 - val_loss: 0.0060 - val_mae: 0.0554\n",
            "Epoch 132/150\n",
            "10/10 [==============================] - 0s 7ms/step - loss: 0.0023 - mae: 0.0358 - val_loss: 0.0060 - val_mae: 0.0551\n",
            "Epoch 133/150\n",
            "10/10 [==============================] - 0s 5ms/step - loss: 0.0023 - mae: 0.0357 - val_loss: 0.0059 - val_mae: 0.0549\n",
            "Epoch 134/150\n",
            "10/10 [==============================] - 0s 7ms/step - loss: 0.0023 - mae: 0.0353 - val_loss: 0.0060 - val_mae: 0.0560\n",
            "Epoch 135/150\n",
            "10/10 [==============================] - 0s 5ms/step - loss: 0.0023 - mae: 0.0363 - val_loss: 0.0059 - val_mae: 0.0551\n",
            "Epoch 136/150\n",
            "10/10 [==============================] - 0s 7ms/step - loss: 0.0022 - mae: 0.0352 - val_loss: 0.0059 - val_mae: 0.0549\n",
            "Epoch 137/150\n",
            "10/10 [==============================] - 0s 7ms/step - loss: 0.0022 - mae: 0.0352 - val_loss: 0.0059 - val_mae: 0.0549\n",
            "Epoch 138/150\n",
            "10/10 [==============================] - 0s 7ms/step - loss: 0.0022 - mae: 0.0349 - val_loss: 0.0059 - val_mae: 0.0553\n",
            "Epoch 139/150\n",
            "10/10 [==============================] - 0s 5ms/step - loss: 0.0022 - mae: 0.0351 - val_loss: 0.0059 - val_mae: 0.0549\n",
            "Epoch 140/150\n",
            "10/10 [==============================] - 0s 6ms/step - loss: 0.0022 - mae: 0.0350 - val_loss: 0.0059 - val_mae: 0.0554\n",
            "Epoch 141/150\n",
            "10/10 [==============================] - 0s 6ms/step - loss: 0.0022 - mae: 0.0348 - val_loss: 0.0059 - val_mae: 0.0547\n",
            "Epoch 142/150\n",
            "10/10 [==============================] - 0s 7ms/step - loss: 0.0022 - mae: 0.0355 - val_loss: 0.0059 - val_mae: 0.0549\n",
            "Epoch 143/150\n",
            "10/10 [==============================] - 0s 5ms/step - loss: 0.0022 - mae: 0.0344 - val_loss: 0.0059 - val_mae: 0.0552\n",
            "Epoch 144/150\n",
            "10/10 [==============================] - 0s 5ms/step - loss: 0.0022 - mae: 0.0355 - val_loss: 0.0058 - val_mae: 0.0542\n",
            "Epoch 145/150\n",
            "10/10 [==============================] - 0s 6ms/step - loss: 0.0022 - mae: 0.0344 - val_loss: 0.0060 - val_mae: 0.0559\n",
            "Epoch 146/150\n",
            "10/10 [==============================] - 0s 5ms/step - loss: 0.0022 - mae: 0.0340 - val_loss: 0.0059 - val_mae: 0.0555\n",
            "Epoch 147/150\n",
            "10/10 [==============================] - 0s 7ms/step - loss: 0.0021 - mae: 0.0345 - val_loss: 0.0059 - val_mae: 0.0549\n",
            "Epoch 148/150\n",
            "10/10 [==============================] - 0s 5ms/step - loss: 0.0021 - mae: 0.0343 - val_loss: 0.0059 - val_mae: 0.0543\n",
            "Epoch 149/150\n",
            "10/10 [==============================] - 0s 6ms/step - loss: 0.0021 - mae: 0.0340 - val_loss: 0.0059 - val_mae: 0.0553\n",
            "Epoch 150/150\n",
            "10/10 [==============================] - 0s 5ms/step - loss: 0.0021 - mae: 0.0341 - val_loss: 0.0058 - val_mae: 0.0540\n"
          ]
        }
      ]
    },
    {
      "cell_type": "code",
      "source": [
        "# Evaluate the model on test set\n",
        "loss, mae = model.evaluate(features_test_scaled, labels_test)\n",
        "print(f\"Test Loss: {loss}, Test MAE: {mae}\")"
      ],
      "metadata": {
        "colab": {
          "base_uri": "https://localhost:8080/"
        },
        "id": "zZblwgNfHRrQ",
        "outputId": "ff3eadd4-ff69-441e-d377-5740dee738ba"
      },
      "execution_count": 54,
      "outputs": [
        {
          "output_type": "stream",
          "name": "stdout",
          "text": [
            "4/4 [==============================] - 0s 3ms/step - loss: 0.0043 - mae: 0.0506\n",
            "Test Loss: 0.004327877890318632, Test MAE: 0.05063465237617493\n"
          ]
        }
      ]
    },
    {
      "cell_type": "code",
      "source": [
        "# Predict admission scores\n",
        "predicted_values = model.predict(features_test_scaled)"
      ],
      "metadata": {
        "colab": {
          "base_uri": "https://localhost:8080/"
        },
        "id": "1uoclxyrHVAL",
        "outputId": "1879c7f5-a5e4-42ef-a88d-3ef515e4f23f"
      },
      "execution_count": 55,
      "outputs": [
        {
          "output_type": "stream",
          "name": "stdout",
          "text": [
            "4/4 [==============================] - 0s 3ms/step\n"
          ]
        }
      ]
    },
    {
      "cell_type": "code",
      "source": [
        "# Calculate R-squared\n",
        "r_squared = r2_score(labels_test, predicted_values)\n",
        "print(\"R-squared:\", r_squared)"
      ],
      "metadata": {
        "colab": {
          "base_uri": "https://localhost:8080/"
        },
        "id": "pVPcRJbxHVFJ",
        "outputId": "ec5e6814-efc0-4e44-8768-225693892b38"
      },
      "execution_count": 56,
      "outputs": [
        {
          "output_type": "stream",
          "name": "stdout",
          "text": [
            "R-squared: 0.7977524297819385\n"
          ]
        }
      ]
    },
    {
      "cell_type": "code",
      "source": [
        "# Plotting the model metrics\n",
        "plt.figure(figsize=(8, 6))\n",
        "\n",
        "plt.subplot(2, 1, 1)\n",
        "plt.plot(history.history['mae'], label='Training MAE')\n",
        "plt.plot(history.history['val_mae'], label='Validation MAE')\n",
        "plt.title('Model MAE')\n",
        "plt.xlabel('Epoch')\n",
        "plt.ylabel('MAE')\n",
        "plt.legend()\n",
        "\n",
        "plt.subplot(2, 1, 2)\n",
        "plt.plot(history.history['loss'], label='Training Loss')\n",
        "plt.plot(history.history['val_loss'], label='Validation Loss')\n",
        "plt.title('Model Loss')\n",
        "plt.xlabel('Epoch')\n",
        "plt.ylabel('Loss')\n",
        "plt.legend()\n",
        "plt.show()"
      ],
      "metadata": {
        "colab": {
          "base_uri": "https://localhost:8080/",
          "height": 564
        },
        "id": "XG2HMewKHVKi",
        "outputId": "ec78e144-6373-4d52-a6e6-7309c7358026"
      },
      "execution_count": 57,
      "outputs": [
        {
          "output_type": "display_data",
          "data": {
            "text/plain": [
              "<Figure size 800x600 with 2 Axes>"
            ],
            "image/png": "[encoded data removed]"
          },
          "metadata": {}
        }
      ]
    }
  ]
}