{
  "nbformat": 4,
  "nbformat_minor": 0,
  "metadata": {
    "colab": {
      "provenance": [],
      "mount_file_id": "1EBm70Igt4YC-GmJ4qSQWGzU9Lb3W2EFu",
      "authorship_tag": "ABX9TyOAZQ6Yq+Eob6cQMCeogqyx",
      "include_colab_link": true
    },
    "kernelspec": {
      "name": "python3",
      "display_name": "Python 3"
    },
    "language_info": {
      "name": "python"
    }
  },
  "cells": [
    {
      "cell_type": "markdown",
      "metadata": {
        "id": "view-in-github",
        "colab_type": "text"
      },
      "source": [
        "<a href=\"https://colab.research.google.com/github/BD-David1108/AI_Projects/blob/main/Copy_of_Deep_Learning_Regression_with_Admissions_Data_f_Kaggle_v2.ipynb\" target=\"_parent\"><img src=\"https://colab.research.google.com/assets/colab-badge.svg\" alt=\"Open In Colab\"/></a>"
      ]
    },
    {
      "cell_type": "code",
      "execution_count": 141,
      "metadata": {
        "id": "su6tnA_NG_Sj"
      },
      "outputs": [],
      "source": [
        "import pandas as pd\n",
        "import matplotlib.pyplot as plt\n",
        "import tensorflow as tf\n",
        "from tensorflow.keras.models import Sequential\n",
        "from tensorflow.keras.callbacks import EarlyStopping\n",
        "from tensorflow.keras.layers import Dense\n",
        "from sklearn.model_selection import train_test_split\n",
        "from sklearn.preprocessing import StandardScaler\n",
        "from sklearn.metrics import r2_score"
      ]
    },
    {
      "cell_type": "code",
      "source": [
        "from google.colab import drive\n",
        "drive.mount('/content/drive')"
      ],
      "metadata": {
        "colab": {
          "base_uri": "https://localhost:8080/"
        },
        "id": "VlYFRkmzRi0F",
        "outputId": "fb645ada-a1e8-4e3d-bdd6-0873fd34043e"
      },
      "execution_count": 142,
      "outputs": [
        {
          "output_type": "stream",
          "name": "stdout",
          "text": [
            "Drive already mounted at /content/drive; to attempt to forcibly remount, call drive.mount(\"/content/drive\", force_remount=True).\n"
          ]
        }
      ]
    },
    {
      "cell_type": "markdown",
      "source": [],
      "metadata": {
        "id": "Ic70ViOeRw-Q"
      }
    },
    {
      "cell_type": "code",
      "source": [
        "# Loading and checking the data\n",
        "dataset = pd.read_csv('/content/drive/MyDrive/data/admissions_data.csv')\n",
        "print(dataset.head())\n",
        "print(dataset.columns)\n",
        "print(dataset.shape)"
      ],
      "metadata": {
        "colab": {
          "base_uri": "https://localhost:8080/"
        },
        "id": "PahM3pJAHBIJ",
        "outputId": "1f2c44d8-aa76-4aea-8574-1d612159a5d1"
      },
      "execution_count": 143,
      "outputs": [
        {
          "output_type": "stream",
          "name": "stdout",
          "text": [
            "   Serial No.  GRE Score  TOEFL Score  University Rating  SOP  LOR   CGPA  \\\n",
            "0           1        337          118                  4  4.5   4.5  9.65   \n",
            "1           2        324          107                  4  4.0   4.5  8.87   \n",
            "2           3        316          104                  3  3.0   3.5  8.00   \n",
            "3           4        322          110                  3  3.5   2.5  8.67   \n",
            "4           5        314          103                  2  2.0   3.0  8.21   \n",
            "\n",
            "   Research  Chance of Admit   \n",
            "0         1              0.92  \n",
            "1         1              0.76  \n",
            "2         1              0.72  \n",
            "3         1              0.80  \n",
            "4         0              0.65  \n",
            "Index(['Serial No.', 'GRE Score', 'TOEFL Score', 'University Rating', 'SOP',\n",
            "       'LOR ', 'CGPA', 'Research', 'Chance of Admit '],\n",
            "      dtype='object')\n",
            "(500, 9)\n"
          ]
        }
      ]
    },
    {
      "cell_type": "code",
      "source": [
        "# Feature and label data split\n",
        "labels = dataset.iloc[:, -1]\n",
        "features = dataset.iloc[:, 1:-1]"
      ],
      "metadata": {
        "id": "jVjVmTPqHC7I"
      },
      "execution_count": 144,
      "outputs": []
    },
    {
      "cell_type": "code",
      "source": [
        "# Train, validation, test split\n",
        "features_train, features_test, labels_train, labels_test = train_test_split(features, labels, test_size=0.20, random_state=11)\n",
        "features_train, features_val, labels_train, labels_val = train_test_split(features_train, labels_train, test_size=0.20, random_state=42)"
      ],
      "metadata": {
        "id": "bgC4PkzfHC9o"
      },
      "execution_count": 145,
      "outputs": []
    },
    {
      "cell_type": "code",
      "source": [
        "# StandardScaler for feature scaling\n",
        "scaler = StandardScaler()\n",
        "features_train_scaled = scaler.fit_transform(features_train)\n",
        "features_test_scaled = scaler.transform(features_test)\n",
        "features_val_scaled = scaler.transform(features_val)\n"
      ],
      "metadata": {
        "id": "gEZDfrtVHDCM"
      },
      "execution_count": 146,
      "outputs": []
    },
    {
      "cell_type": "code",
      "source": [
        "# Creating the model\n",
        "model = Sequential([\n",
        "    Dense(64, activation='relu', input_shape=(features.shape[1],)),\n",
        "    Dense(32, activation='relu'),\n",
        "    Dense(16, activation='relu'),\n",
        "    Dense(1)\n",
        "])\n",
        "print(model.summary())"
      ],
      "metadata": {
        "colab": {
          "base_uri": "https://localhost:8080/"
        },
        "id": "Zfz_2jAeHDEp",
        "outputId": "2555893f-899a-4dfb-9ccb-4b9f4ccb2138"
      },
      "execution_count": 147,
      "outputs": [
        {
          "output_type": "stream",
          "name": "stdout",
          "text": [
            "Model: \"sequential_10\"\n",
            "_________________________________________________________________\n",
            " Layer (type)                Output Shape              Param #   \n",
            "=================================================================\n",
            " dense_40 (Dense)            (None, 64)                512       \n",
            "                                                                 \n",
            " dense_41 (Dense)            (None, 32)                2080      \n",
            "                                                                 \n",
            " dense_42 (Dense)            (None, 16)                528       \n",
            "                                                                 \n",
            " dense_43 (Dense)            (None, 1)                 17        \n",
            "                                                                 \n",
            "=================================================================\n",
            "Total params: 3137 (12.25 KB)\n",
            "Trainable params: 3137 (12.25 KB)\n",
            "Non-trainable params: 0 (0.00 Byte)\n",
            "_________________________________________________________________\n",
            "None\n"
          ]
        }
      ]
    },
    {
      "cell_type": "code",
      "source": [
        "# Compiling model\n",
        "model.compile(loss='mse', metrics=['mae'], optimizer='adam')"
      ],
      "metadata": {
        "id": "8XtX5DTLHM7Z"
      },
      "execution_count": 148,
      "outputs": []
    },
    {
      "cell_type": "code",
      "source": [
        "# EarlyStopping callback\n",
        "early_stopping = EarlyStopping(monitor='val_loss', mode='min', patience=15, restore_best_weights=True)"
      ],
      "metadata": {
        "id": "QCojX6wKHM_s"
      },
      "execution_count": 149,
      "outputs": []
    },
    {
      "cell_type": "code",
      "source": [
        "# Fitting the model\n",
        "history = model.fit(features_train_scaled, labels_train, epochs=500, batch_size=50,\n",
        "                    validation_data=(features_val_scaled, labels_val), callbacks=[early_stopping])"
      ],
      "metadata": {
        "colab": {
          "base_uri": "https://localhost:8080/"
        },
        "id": "2uD4xmAaHNCo",
        "outputId": "5514384a-2502-4b0b-fee4-5ea32b5d2451"
      },
      "execution_count": 150,
      "outputs": [
        {
          "output_type": "stream",
          "name": "stdout",
          "text": [
            "Epoch 1/500\n",
            "7/7 [==============================] - 1s 32ms/step - loss: 0.1589 - mae: 0.3550 - val_loss: 0.0905 - val_mae: 0.2625\n",
            "Epoch 2/500\n",
            "7/7 [==============================] - 0s 7ms/step - loss: 0.0750 - mae: 0.2269 - val_loss: 0.0808 - val_mae: 0.2294\n",
            "Epoch 3/500\n",
            "7/7 [==============================] - 0s 10ms/step - loss: 0.0628 - mae: 0.2050 - val_loss: 0.0572 - val_mae: 0.1954\n",
            "Epoch 4/500\n",
            "7/7 [==============================] - 0s 7ms/step - loss: 0.0447 - mae: 0.1757 - val_loss: 0.0421 - val_mae: 0.1728\n",
            "Epoch 5/500\n",
            "7/7 [==============================] - 0s 10ms/step - loss: 0.0332 - mae: 0.1514 - val_loss: 0.0285 - val_mae: 0.1405\n",
            "Epoch 6/500\n",
            "7/7 [==============================] - 0s 7ms/step - loss: 0.0246 - mae: 0.1288 - val_loss: 0.0223 - val_mae: 0.1219\n",
            "Epoch 7/500\n",
            "7/7 [==============================] - 0s 7ms/step - loss: 0.0194 - mae: 0.1142 - val_loss: 0.0191 - val_mae: 0.1139\n",
            "Epoch 8/500\n",
            "7/7 [==============================] - 0s 7ms/step - loss: 0.0161 - mae: 0.1036 - val_loss: 0.0168 - val_mae: 0.1065\n",
            "Epoch 9/500\n",
            "7/7 [==============================] - 0s 10ms/step - loss: 0.0133 - mae: 0.0946 - val_loss: 0.0154 - val_mae: 0.1010\n",
            "Epoch 10/500\n",
            "7/7 [==============================] - 0s 7ms/step - loss: 0.0113 - mae: 0.0868 - val_loss: 0.0147 - val_mae: 0.0980\n",
            "Epoch 11/500\n",
            "7/7 [==============================] - 0s 10ms/step - loss: 0.0099 - mae: 0.0808 - val_loss: 0.0138 - val_mae: 0.0948\n",
            "Epoch 12/500\n",
            "7/7 [==============================] - 0s 10ms/step - loss: 0.0087 - mae: 0.0746 - val_loss: 0.0126 - val_mae: 0.0909\n",
            "Epoch 13/500\n",
            "7/7 [==============================] - 0s 10ms/step - loss: 0.0079 - mae: 0.0710 - val_loss: 0.0121 - val_mae: 0.0871\n",
            "Epoch 14/500\n",
            "7/7 [==============================] - 0s 10ms/step - loss: 0.0070 - mae: 0.0669 - val_loss: 0.0116 - val_mae: 0.0852\n",
            "Epoch 15/500\n",
            "7/7 [==============================] - 0s 10ms/step - loss: 0.0065 - mae: 0.0642 - val_loss: 0.0110 - val_mae: 0.0830\n",
            "Epoch 16/500\n",
            "7/7 [==============================] - 0s 8ms/step - loss: 0.0059 - mae: 0.0607 - val_loss: 0.0108 - val_mae: 0.0817\n",
            "Epoch 17/500\n",
            "7/7 [==============================] - 0s 7ms/step - loss: 0.0055 - mae: 0.0586 - val_loss: 0.0103 - val_mae: 0.0800\n",
            "Epoch 18/500\n",
            "7/7 [==============================] - 0s 7ms/step - loss: 0.0051 - mae: 0.0561 - val_loss: 0.0097 - val_mae: 0.0770\n",
            "Epoch 19/500\n",
            "7/7 [==============================] - 0s 7ms/step - loss: 0.0048 - mae: 0.0545 - val_loss: 0.0099 - val_mae: 0.0770\n",
            "Epoch 20/500\n",
            "7/7 [==============================] - 0s 7ms/step - loss: 0.0046 - mae: 0.0523 - val_loss: 0.0094 - val_mae: 0.0745\n",
            "Epoch 21/500\n",
            "7/7 [==============================] - 0s 7ms/step - loss: 0.0043 - mae: 0.0508 - val_loss: 0.0095 - val_mae: 0.0751\n",
            "Epoch 22/500\n",
            "7/7 [==============================] - 0s 7ms/step - loss: 0.0042 - mae: 0.0499 - val_loss: 0.0093 - val_mae: 0.0743\n",
            "Epoch 23/500\n",
            "7/7 [==============================] - 0s 10ms/step - loss: 0.0042 - mae: 0.0489 - val_loss: 0.0092 - val_mae: 0.0741\n",
            "Epoch 24/500\n",
            "7/7 [==============================] - 0s 10ms/step - loss: 0.0039 - mae: 0.0484 - val_loss: 0.0089 - val_mae: 0.0729\n",
            "Epoch 25/500\n",
            "7/7 [==============================] - 0s 7ms/step - loss: 0.0038 - mae: 0.0463 - val_loss: 0.0086 - val_mae: 0.0712\n",
            "Epoch 26/500\n",
            "7/7 [==============================] - 0s 10ms/step - loss: 0.0036 - mae: 0.0451 - val_loss: 0.0084 - val_mae: 0.0708\n",
            "Epoch 27/500\n",
            "7/7 [==============================] - 0s 10ms/step - loss: 0.0035 - mae: 0.0449 - val_loss: 0.0081 - val_mae: 0.0682\n",
            "Epoch 28/500\n",
            "7/7 [==============================] - 0s 9ms/step - loss: 0.0035 - mae: 0.0441 - val_loss: 0.0082 - val_mae: 0.0690\n",
            "Epoch 29/500\n",
            "7/7 [==============================] - 0s 7ms/step - loss: 0.0034 - mae: 0.0436 - val_loss: 0.0083 - val_mae: 0.0692\n",
            "Epoch 30/500\n",
            "7/7 [==============================] - 0s 7ms/step - loss: 0.0033 - mae: 0.0436 - val_loss: 0.0083 - val_mae: 0.0704\n",
            "Epoch 31/500\n",
            "7/7 [==============================] - 0s 10ms/step - loss: 0.0032 - mae: 0.0423 - val_loss: 0.0081 - val_mae: 0.0692\n",
            "Epoch 32/500\n",
            "7/7 [==============================] - 0s 7ms/step - loss: 0.0031 - mae: 0.0413 - val_loss: 0.0081 - val_mae: 0.0686\n",
            "Epoch 33/500\n",
            "7/7 [==============================] - 0s 7ms/step - loss: 0.0030 - mae: 0.0413 - val_loss: 0.0081 - val_mae: 0.0681\n",
            "Epoch 34/500\n",
            "7/7 [==============================] - 0s 10ms/step - loss: 0.0030 - mae: 0.0402 - val_loss: 0.0079 - val_mae: 0.0679\n",
            "Epoch 35/500\n",
            "7/7 [==============================] - 0s 7ms/step - loss: 0.0029 - mae: 0.0397 - val_loss: 0.0082 - val_mae: 0.0691\n",
            "Epoch 36/500\n",
            "7/7 [==============================] - 0s 9ms/step - loss: 0.0028 - mae: 0.0398 - val_loss: 0.0077 - val_mae: 0.0669\n",
            "Epoch 37/500\n",
            "7/7 [==============================] - 0s 7ms/step - loss: 0.0028 - mae: 0.0394 - val_loss: 0.0078 - val_mae: 0.0672\n",
            "Epoch 38/500\n",
            "7/7 [==============================] - 0s 7ms/step - loss: 0.0028 - mae: 0.0394 - val_loss: 0.0076 - val_mae: 0.0662\n",
            "Epoch 39/500\n",
            "7/7 [==============================] - 0s 9ms/step - loss: 0.0028 - mae: 0.0390 - val_loss: 0.0076 - val_mae: 0.0666\n",
            "Epoch 40/500\n",
            "7/7 [==============================] - 0s 7ms/step - loss: 0.0026 - mae: 0.0378 - val_loss: 0.0077 - val_mae: 0.0663\n",
            "Epoch 41/500\n",
            "7/7 [==============================] - 0s 9ms/step - loss: 0.0026 - mae: 0.0382 - val_loss: 0.0072 - val_mae: 0.0633\n",
            "Epoch 42/500\n",
            "7/7 [==============================] - 0s 7ms/step - loss: 0.0026 - mae: 0.0375 - val_loss: 0.0072 - val_mae: 0.0647\n",
            "Epoch 43/500\n",
            "7/7 [==============================] - 0s 10ms/step - loss: 0.0025 - mae: 0.0371 - val_loss: 0.0076 - val_mae: 0.0669\n",
            "Epoch 44/500\n",
            "7/7 [==============================] - 0s 7ms/step - loss: 0.0025 - mae: 0.0370 - val_loss: 0.0074 - val_mae: 0.0655\n",
            "Epoch 45/500\n",
            "7/7 [==============================] - 0s 10ms/step - loss: 0.0025 - mae: 0.0376 - val_loss: 0.0072 - val_mae: 0.0648\n",
            "Epoch 46/500\n",
            "7/7 [==============================] - 0s 11ms/step - loss: 0.0024 - mae: 0.0369 - val_loss: 0.0070 - val_mae: 0.0633\n",
            "Epoch 47/500\n",
            "7/7 [==============================] - 0s 10ms/step - loss: 0.0023 - mae: 0.0356 - val_loss: 0.0072 - val_mae: 0.0639\n",
            "Epoch 48/500\n",
            "7/7 [==============================] - 0s 8ms/step - loss: 0.0024 - mae: 0.0368 - val_loss: 0.0070 - val_mae: 0.0630\n",
            "Epoch 49/500\n",
            "7/7 [==============================] - 0s 9ms/step - loss: 0.0024 - mae: 0.0364 - val_loss: 0.0073 - val_mae: 0.0655\n",
            "Epoch 50/500\n",
            "7/7 [==============================] - 0s 7ms/step - loss: 0.0023 - mae: 0.0355 - val_loss: 0.0067 - val_mae: 0.0614\n",
            "Epoch 51/500\n",
            "7/7 [==============================] - 0s 8ms/step - loss: 0.0023 - mae: 0.0348 - val_loss: 0.0073 - val_mae: 0.0647\n",
            "Epoch 52/500\n",
            "7/7 [==============================] - 0s 10ms/step - loss: 0.0022 - mae: 0.0343 - val_loss: 0.0070 - val_mae: 0.0632\n",
            "Epoch 53/500\n",
            "7/7 [==============================] - 0s 7ms/step - loss: 0.0022 - mae: 0.0340 - val_loss: 0.0070 - val_mae: 0.0632\n",
            "Epoch 54/500\n",
            "7/7 [==============================] - 0s 6ms/step - loss: 0.0021 - mae: 0.0333 - val_loss: 0.0073 - val_mae: 0.0643\n",
            "Epoch 55/500\n",
            "7/7 [==============================] - 0s 7ms/step - loss: 0.0022 - mae: 0.0340 - val_loss: 0.0069 - val_mae: 0.0635\n",
            "Epoch 56/500\n",
            "7/7 [==============================] - 0s 6ms/step - loss: 0.0021 - mae: 0.0332 - val_loss: 0.0068 - val_mae: 0.0620\n",
            "Epoch 57/500\n",
            "7/7 [==============================] - 0s 7ms/step - loss: 0.0021 - mae: 0.0325 - val_loss: 0.0070 - val_mae: 0.0633\n",
            "Epoch 58/500\n",
            "7/7 [==============================] - 0s 10ms/step - loss: 0.0020 - mae: 0.0326 - val_loss: 0.0068 - val_mae: 0.0620\n",
            "Epoch 59/500\n",
            "7/7 [==============================] - 0s 8ms/step - loss: 0.0020 - mae: 0.0321 - val_loss: 0.0070 - val_mae: 0.0633\n",
            "Epoch 60/500\n",
            "7/7 [==============================] - 0s 7ms/step - loss: 0.0019 - mae: 0.0317 - val_loss: 0.0070 - val_mae: 0.0634\n",
            "Epoch 61/500\n",
            "7/7 [==============================] - 0s 7ms/step - loss: 0.0020 - mae: 0.0318 - val_loss: 0.0069 - val_mae: 0.0623\n",
            "Epoch 62/500\n",
            "7/7 [==============================] - 0s 7ms/step - loss: 0.0019 - mae: 0.0313 - val_loss: 0.0067 - val_mae: 0.0617\n",
            "Epoch 63/500\n",
            "7/7 [==============================] - 0s 6ms/step - loss: 0.0020 - mae: 0.0315 - val_loss: 0.0070 - val_mae: 0.0626\n",
            "Epoch 64/500\n",
            "7/7 [==============================] - 0s 11ms/step - loss: 0.0020 - mae: 0.0317 - val_loss: 0.0069 - val_mae: 0.0627\n",
            "Epoch 65/500\n",
            "7/7 [==============================] - 0s 7ms/step - loss: 0.0019 - mae: 0.0310 - val_loss: 0.0069 - val_mae: 0.0623\n",
            "Epoch 66/500\n",
            "7/7 [==============================] - 0s 7ms/step - loss: 0.0019 - mae: 0.0314 - val_loss: 0.0066 - val_mae: 0.0613\n",
            "Epoch 67/500\n",
            "7/7 [==============================] - 0s 7ms/step - loss: 0.0019 - mae: 0.0308 - val_loss: 0.0070 - val_mae: 0.0623\n",
            "Epoch 68/500\n",
            "7/7 [==============================] - 0s 7ms/step - loss: 0.0019 - mae: 0.0310 - val_loss: 0.0067 - val_mae: 0.0604\n",
            "Epoch 69/500\n",
            "7/7 [==============================] - 0s 10ms/step - loss: 0.0019 - mae: 0.0309 - val_loss: 0.0068 - val_mae: 0.0619\n",
            "Epoch 70/500\n",
            "7/7 [==============================] - 0s 8ms/step - loss: 0.0018 - mae: 0.0302 - val_loss: 0.0067 - val_mae: 0.0618\n",
            "Epoch 71/500\n",
            "7/7 [==============================] - 0s 7ms/step - loss: 0.0018 - mae: 0.0296 - val_loss: 0.0069 - val_mae: 0.0620\n",
            "Epoch 72/500\n",
            "7/7 [==============================] - 0s 10ms/step - loss: 0.0018 - mae: 0.0306 - val_loss: 0.0066 - val_mae: 0.0606\n",
            "Epoch 73/500\n",
            "7/7 [==============================] - 0s 9ms/step - loss: 0.0018 - mae: 0.0301 - val_loss: 0.0070 - val_mae: 0.0624\n",
            "Epoch 74/500\n",
            "7/7 [==============================] - 0s 7ms/step - loss: 0.0018 - mae: 0.0300 - val_loss: 0.0069 - val_mae: 0.0620\n",
            "Epoch 75/500\n",
            "7/7 [==============================] - 0s 7ms/step - loss: 0.0017 - mae: 0.0296 - val_loss: 0.0065 - val_mae: 0.0597\n",
            "Epoch 76/500\n",
            "7/7 [==============================] - 0s 7ms/step - loss: 0.0017 - mae: 0.0292 - val_loss: 0.0069 - val_mae: 0.0627\n",
            "Epoch 77/500\n",
            "7/7 [==============================] - 0s 7ms/step - loss: 0.0017 - mae: 0.0301 - val_loss: 0.0067 - val_mae: 0.0619\n",
            "Epoch 78/500\n",
            "7/7 [==============================] - 0s 7ms/step - loss: 0.0017 - mae: 0.0293 - val_loss: 0.0069 - val_mae: 0.0615\n",
            "Epoch 79/500\n",
            "7/7 [==============================] - 0s 7ms/step - loss: 0.0017 - mae: 0.0291 - val_loss: 0.0066 - val_mae: 0.0607\n",
            "Epoch 80/500\n",
            "7/7 [==============================] - 0s 7ms/step - loss: 0.0016 - mae: 0.0281 - val_loss: 0.0068 - val_mae: 0.0620\n",
            "Epoch 81/500\n",
            "7/7 [==============================] - 0s 10ms/step - loss: 0.0016 - mae: 0.0289 - val_loss: 0.0068 - val_mae: 0.0617\n",
            "Epoch 82/500\n",
            "7/7 [==============================] - 0s 11ms/step - loss: 0.0016 - mae: 0.0286 - val_loss: 0.0067 - val_mae: 0.0606\n",
            "Epoch 83/500\n",
            "7/7 [==============================] - 0s 10ms/step - loss: 0.0016 - mae: 0.0289 - val_loss: 0.0065 - val_mae: 0.0599\n",
            "Epoch 84/500\n",
            "7/7 [==============================] - 0s 13ms/step - loss: 0.0016 - mae: 0.0284 - val_loss: 0.0070 - val_mae: 0.0637\n",
            "Epoch 85/500\n",
            "7/7 [==============================] - 0s 12ms/step - loss: 0.0016 - mae: 0.0293 - val_loss: 0.0066 - val_mae: 0.0603\n",
            "Epoch 86/500\n",
            "7/7 [==============================] - 0s 12ms/step - loss: 0.0016 - mae: 0.0287 - val_loss: 0.0066 - val_mae: 0.0613\n",
            "Epoch 87/500\n",
            "7/7 [==============================] - 0s 12ms/step - loss: 0.0015 - mae: 0.0281 - val_loss: 0.0069 - val_mae: 0.0624\n",
            "Epoch 88/500\n",
            "7/7 [==============================] - 0s 14ms/step - loss: 0.0016 - mae: 0.0289 - val_loss: 0.0065 - val_mae: 0.0600\n",
            "Epoch 89/500\n",
            "7/7 [==============================] - 0s 9ms/step - loss: 0.0015 - mae: 0.0269 - val_loss: 0.0069 - val_mae: 0.0620\n",
            "Epoch 90/500\n",
            "7/7 [==============================] - 0s 9ms/step - loss: 0.0015 - mae: 0.0276 - val_loss: 0.0066 - val_mae: 0.0610\n",
            "Epoch 91/500\n",
            "7/7 [==============================] - 0s 13ms/step - loss: 0.0015 - mae: 0.0270 - val_loss: 0.0065 - val_mae: 0.0606\n",
            "Epoch 92/500\n",
            "7/7 [==============================] - 0s 10ms/step - loss: 0.0015 - mae: 0.0270 - val_loss: 0.0068 - val_mae: 0.0611\n",
            "Epoch 93/500\n",
            "7/7 [==============================] - 0s 9ms/step - loss: 0.0014 - mae: 0.0263 - val_loss: 0.0063 - val_mae: 0.0587\n",
            "Epoch 94/500\n",
            "7/7 [==============================] - 0s 12ms/step - loss: 0.0014 - mae: 0.0265 - val_loss: 0.0068 - val_mae: 0.0618\n",
            "Epoch 95/500\n",
            "7/7 [==============================] - 0s 11ms/step - loss: 0.0014 - mae: 0.0262 - val_loss: 0.0063 - val_mae: 0.0586\n",
            "Epoch 96/500\n",
            "7/7 [==============================] - 0s 13ms/step - loss: 0.0015 - mae: 0.0272 - val_loss: 0.0066 - val_mae: 0.0597\n",
            "Epoch 97/500\n",
            "7/7 [==============================] - 0s 13ms/step - loss: 0.0014 - mae: 0.0266 - val_loss: 0.0069 - val_mae: 0.0619\n",
            "Epoch 98/500\n",
            "7/7 [==============================] - 0s 10ms/step - loss: 0.0014 - mae: 0.0258 - val_loss: 0.0062 - val_mae: 0.0589\n",
            "Epoch 99/500\n",
            "7/7 [==============================] - 0s 12ms/step - loss: 0.0014 - mae: 0.0262 - val_loss: 0.0071 - val_mae: 0.0629\n",
            "Epoch 100/500\n",
            "7/7 [==============================] - 0s 12ms/step - loss: 0.0015 - mae: 0.0274 - val_loss: 0.0063 - val_mae: 0.0577\n",
            "Epoch 101/500\n",
            "7/7 [==============================] - 0s 12ms/step - loss: 0.0014 - mae: 0.0259 - val_loss: 0.0071 - val_mae: 0.0629\n",
            "Epoch 102/500\n",
            "7/7 [==============================] - 0s 11ms/step - loss: 0.0013 - mae: 0.0254 - val_loss: 0.0064 - val_mae: 0.0592\n",
            "Epoch 103/500\n",
            "7/7 [==============================] - 0s 11ms/step - loss: 0.0014 - mae: 0.0261 - val_loss: 0.0070 - val_mae: 0.0623\n",
            "Epoch 104/500\n",
            "7/7 [==============================] - 0s 13ms/step - loss: 0.0014 - mae: 0.0260 - val_loss: 0.0062 - val_mae: 0.0583\n",
            "Epoch 105/500\n",
            "7/7 [==============================] - 0s 10ms/step - loss: 0.0013 - mae: 0.0258 - val_loss: 0.0068 - val_mae: 0.0618\n",
            "Epoch 106/500\n",
            "7/7 [==============================] - 0s 12ms/step - loss: 0.0013 - mae: 0.0256 - val_loss: 0.0065 - val_mae: 0.0603\n",
            "Epoch 107/500\n",
            "7/7 [==============================] - 0s 12ms/step - loss: 0.0013 - mae: 0.0251 - val_loss: 0.0066 - val_mae: 0.0600\n",
            "Epoch 108/500\n",
            "7/7 [==============================] - 0s 15ms/step - loss: 0.0013 - mae: 0.0249 - val_loss: 0.0065 - val_mae: 0.0602\n",
            "Epoch 109/500\n",
            "7/7 [==============================] - 0s 11ms/step - loss: 0.0013 - mae: 0.0248 - val_loss: 0.0065 - val_mae: 0.0599\n",
            "Epoch 110/500\n",
            "7/7 [==============================] - 0s 13ms/step - loss: 0.0012 - mae: 0.0243 - val_loss: 0.0065 - val_mae: 0.0590\n",
            "Epoch 111/500\n",
            "7/7 [==============================] - 0s 13ms/step - loss: 0.0012 - mae: 0.0246 - val_loss: 0.0065 - val_mae: 0.0603\n",
            "Epoch 112/500\n",
            "7/7 [==============================] - 0s 9ms/step - loss: 0.0012 - mae: 0.0242 - val_loss: 0.0064 - val_mae: 0.0596\n",
            "Epoch 113/500\n",
            "7/7 [==============================] - 0s 12ms/step - loss: 0.0013 - mae: 0.0247 - val_loss: 0.0068 - val_mae: 0.0614\n",
            "Epoch 114/500\n",
            "7/7 [==============================] - 0s 12ms/step - loss: 0.0012 - mae: 0.0236 - val_loss: 0.0066 - val_mae: 0.0604\n",
            "Epoch 115/500\n",
            "7/7 [==============================] - 0s 9ms/step - loss: 0.0012 - mae: 0.0238 - val_loss: 0.0066 - val_mae: 0.0600\n",
            "Epoch 116/500\n",
            "7/7 [==============================] - 0s 10ms/step - loss: 0.0012 - mae: 0.0240 - val_loss: 0.0066 - val_mae: 0.0604\n",
            "Epoch 117/500\n",
            "7/7 [==============================] - 0s 10ms/step - loss: 0.0013 - mae: 0.0243 - val_loss: 0.0072 - val_mae: 0.0632\n",
            "Epoch 118/500\n",
            "7/7 [==============================] - 0s 13ms/step - loss: 0.0012 - mae: 0.0246 - val_loss: 0.0065 - val_mae: 0.0603\n",
            "Epoch 119/500\n",
            "7/7 [==============================] - 0s 10ms/step - loss: 0.0011 - mae: 0.0232 - val_loss: 0.0071 - val_mae: 0.0625\n"
          ]
        }
      ]
    },
    {
      "cell_type": "code",
      "source": [
        "# Evaluate the model on test set\n",
        "loss, mae = model.evaluate(features_test_scaled, labels_test)\n",
        "print(f\"Test Loss: {loss}, Test MAE: {mae}\")"
      ],
      "metadata": {
        "colab": {
          "base_uri": "https://localhost:8080/"
        },
        "id": "zZblwgNfHRrQ",
        "outputId": "3078a34a-0dc7-4431-9ab1-d63dfc5f3ca6"
      },
      "execution_count": 151,
      "outputs": [
        {
          "output_type": "stream",
          "name": "stdout",
          "text": [
            "4/4 [==============================] - 0s 4ms/step - loss: 0.0038 - mae: 0.0500\n",
            "Test Loss: 0.0038331239484250546, Test MAE: 0.049967531114816666\n"
          ]
        }
      ]
    },
    {
      "cell_type": "code",
      "source": [
        "# Predict admission scores\n",
        "predicted_values = model.predict(features_test_scaled)"
      ],
      "metadata": {
        "colab": {
          "base_uri": "https://localhost:8080/"
        },
        "id": "1uoclxyrHVAL",
        "outputId": "61270939-e21c-48c2-bd64-84385ebe82d5"
      },
      "execution_count": 152,
      "outputs": [
        {
          "output_type": "stream",
          "name": "stdout",
          "text": [
            "4/4 [==============================] - 0s 4ms/step\n"
          ]
        }
      ]
    },
    {
      "cell_type": "code",
      "source": [
        "# Calculate R-squared\n",
        "r_squared = r2_score(labels_test, predicted_values)\n",
        "print(\"R-squared:\", r_squared)"
      ],
      "metadata": {
        "colab": {
          "base_uri": "https://localhost:8080/"
        },
        "id": "pVPcRJbxHVFJ",
        "outputId": "ebf5bec6-aa46-432d-b71c-3295eaf8eb53"
      },
      "execution_count": 153,
      "outputs": [
        {
          "output_type": "stream",
          "name": "stdout",
          "text": [
            "R-squared: 0.8208729367312273\n"
          ]
        }
      ]
    },
    {
      "cell_type": "code",
      "source": [
        "# Plotting the model metrics\n",
        "plt.figure(figsize=(8, 6))\n",
        "\n",
        "plt.subplot(2, 1, 1)\n",
        "plt.plot(history.history['mae'], label='Training MAE')\n",
        "plt.plot(history.history['val_mae'], label='Validation MAE')\n",
        "plt.title('Model MAE')\n",
        "plt.xlabel('Epoch')\n",
        "plt.ylabel('MAE')\n",
        "plt.legend()\n",
        "\n",
        "plt.subplot(2, 1, 2)\n",
        "plt.plot(history.history['loss'], label='Training Loss')\n",
        "plt.plot(history.history['val_loss'], label='Validation Loss')\n",
        "plt.title('Model Loss')\n",
        "plt.xlabel('Epoch')\n",
        "plt.ylabel('Loss')\n",
        "plt.legend()\n",
        "plt.show()"
      ],
      "metadata": {
        "colab": {
          "base_uri": "https://localhost:8080/",
          "height": 564
        },
        "id": "XG2HMewKHVKi",
        "outputId": "9b5484a0-a88b-4be5-fd48-ae34d3cfeb8d"
      },
      "execution_count": 154,
      "outputs": [
        {
          "output_type": "display_data",
          "data": {
            "text/plain": [
              "<Figure size 800x600 with 2 Axes>"
            ],
            "image/png": "[encoded data removed]"
          },
          "metadata": {}
        }
      ]
    }
  ]
}